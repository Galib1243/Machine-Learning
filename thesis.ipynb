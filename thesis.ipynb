{
  "nbformat": 4,
  "nbformat_minor": 0,
  "metadata": {
    "colab": {
      "provenance": [],
      "collapsed_sections": [],
      "toc_visible": true,
      "authorship_tag": "ABX9TyNIsV9bXyrYTV5Tx7YK/eol",
      "include_colab_link": true
    },
    "kernelspec": {
      "name": "python3",
      "display_name": "Python 3"
    },
    "language_info": {
      "name": "python"
    }
  },
  "cells": [
    {
      "cell_type": "markdown",
      "metadata": {
        "id": "view-in-github",
        "colab_type": "text"
      },
      "source": [
        "<a href=\"https://colab.research.google.com/github/Galib1243/Machine-Learning/blob/main/thesis.ipynb\" target=\"_parent\"><img src=\"https://colab.research.google.com/assets/colab-badge.svg\" alt=\"Open In Colab\"/></a>"
      ]
    },
    {
      "cell_type": "markdown",
      "source": [
        "CONNNECT to GOOGLE DRIVE"
      ],
      "metadata": {
        "id": "li5S4s0j7ZLc"
      }
    },
    {
      "cell_type": "code",
      "execution_count": null,
      "metadata": {
        "id": "1NrTPA19zl4k",
        "colab": {
          "base_uri": "https://localhost:8080/"
        },
        "outputId": "5ab2d9f6-e47a-4617-ecff-36f350a29b62"
      },
      "outputs": [
        {
          "output_type": "stream",
          "name": "stdout",
          "text": [
            "Mounted at /content/drive/\n"
          ]
        }
      ],
      "source": [
        "from google.colab import drive\n",
        "drive.mount('/content/drive/')\n",
        "import numpy as np\n",
        "import os\n",
        "import cv2\n",
        "import matplotlib.pyplot as plt\n",
        "import random"
      ]
    },
    {
      "cell_type": "markdown",
      "source": [],
      "metadata": {
        "id": "sD0k4MTTHRwk"
      }
    },
    {
      "cell_type": "markdown",
      "source": [
        "READ file and folder"
      ],
      "metadata": {
        "id": "O7mFgCDPH0qT"
      }
    },
    {
      "cell_type": "code",
      "source": [
        "DIRECTORY =  r'/content/drive/MyDrive/data'\n",
        "\n",
        "CATEGORIES = ['Healthy_Images', 'Unhealthy_Images']"
      ],
      "metadata": {
        "id": "tp9N1ijJXrIB"
      },
      "execution_count": null,
      "outputs": []
    },
    {
      "cell_type": "markdown",
      "source": [
        "JOIN the two file ,resizing  of images and convert numpy array\n"
      ],
      "metadata": {
        "id": "JxQllo4VICRG"
      }
    },
    {
      "cell_type": "code",
      "source": [
        "data = []\n",
        "\n",
        "for category in CATEGORIES:\n",
        "    path = os.path.join(DIRECTORY, category)\n",
        "    for img in os.listdir(path):\n",
        "        img_path = os.path.join(path, img)\n",
        "        label = CATEGORIES.index(category)\n",
        "        arr = cv2.imread(img_path, cv2.IMREAD_GRAYSCALE)\n",
        "        new_arr = cv2.resize(arr, (100, 100))\n",
        "        data.append([new_arr, label])"
      ],
      "metadata": {
        "id": "yYyWbTTwYrTR"
      },
      "execution_count": null,
      "outputs": []
    },
    {
      "cell_type": "code",
      "source": [],
      "metadata": {
        "id": "WzR8AcKwbLUp"
      },
      "execution_count": null,
      "outputs": []
    },
    {
      "cell_type": "code",
      "source": [
        "x=[]\n",
        "y=[]\n",
        "random.shuffle(data)\n",
        "for feature,lebel in data:\n",
        "  x.append(feature)\n",
        "  y.append(lebel)\n",
        "\n",
        "\n",
        "\n",
        "x=np.array(x)\n",
        "y=np.array(y)\n",
        "x=x/255\n",
        "\n",
        "\n",
        "x.shape\n"
      ],
      "metadata": {
        "colab": {
          "base_uri": "https://localhost:8080/"
        },
        "id": "ZDFXbiLtb_1f",
        "outputId": "f2d6751c-64e1-4ee4-e00a-42155d166551"
      },
      "execution_count": null,
      "outputs": [
        {
          "output_type": "execute_result",
          "data": {
            "text/plain": [
              "(1007, 100, 100)"
            ]
          },
          "metadata": {},
          "execution_count": 4
        }
      ]
    },
    {
      "cell_type": "code",
      "source": [
        "from sklearn.ensemble import RandomForestClassifier\n",
        "from sklearn.model_selection import train_test_split\n",
        "x_train, x_test, y_train, y_test = train_test_split(x, y,test_size = 0.2, random_state=42)\n"
      ],
      "metadata": {
        "id": "qE3pk2_0fjKu"
      },
      "execution_count": null,
      "outputs": []
    },
    {
      "cell_type": "code",
      "source": [],
      "metadata": {
        "id": "L32__Ew2_ZYX"
      },
      "execution_count": null,
      "outputs": []
    },
    {
      "cell_type": "markdown",
      "source": [
        "Convert 2D Array\n"
      ],
      "metadata": {
        "id": "bOxfiXfw6aQ9"
      }
    },
    {
      "cell_type": "code",
      "source": [
        "number_of_train = x_train.shape[0]\n",
        "number_of_test = x_test.shape[0]\n",
        "\n",
        "x_train_flat = x_train.reshape(number_of_train,x_train.shape[1]*x_train.shape[2])\n",
        "x_test_flat = x_test.reshape(number_of_test,x_test.shape[1]*x_test.shape[2]) \n",
        "print(\"x train flat\",x_train_flat.shape)\n",
        "print(\"x test flat\",x_test_flat.shape)"
      ],
      "metadata": {
        "colab": {
          "base_uri": "https://localhost:8080/"
        },
        "id": "L1g3S63U9Ig5",
        "outputId": "9aadad9a-5ce5-420b-9e7c-838c8cbeb684"
      },
      "execution_count": null,
      "outputs": [
        {
          "output_type": "stream",
          "name": "stdout",
          "text": [
            "x train flat (805, 10000)\n",
            "x test flat (202, 10000)\n"
          ]
        }
      ]
    },
    {
      "cell_type": "code",
      "source": [],
      "metadata": {
        "id": "S0egxLVM9opR"
      },
      "execution_count": null,
      "outputs": []
    },
    {
      "cell_type": "markdown",
      "source": [
        "XG Boost **classifier** **\n",
        "**"
      ],
      "metadata": {
        "id": "DCy0V9hGJGJo"
      }
    },
    {
      "cell_type": "code",
      "source": [
        "from xgboost import XGBClassifier\n",
        "from sklearn.metrics import accuracy_score,classification_report\n",
        "model2 = XGBClassifier()\n",
        "model2.fit(x_train_flat, y_train)\n",
        "y_pred1 = model2.predict(x_test_flat)\n",
        "print (\"Accuracy : \", accuracy_score(y_test, y_pred1)) \n",
        "\n"
      ],
      "metadata": {
        "colab": {
          "base_uri": "https://localhost:8080/"
        },
        "id": "iq5ylaoUA2dH",
        "outputId": "56f47a46-d99d-4fd3-926b-824899726077"
      },
      "execution_count": null,
      "outputs": [
        {
          "output_type": "stream",
          "name": "stdout",
          "text": [
            "Accuracy :  0.6039603960396039\n"
          ]
        }
      ]
    },
    {
      "cell_type": "markdown",
      "source": [
        "Decision **tree**"
      ],
      "metadata": {
        "id": "aPGE9DaIJWLc"
      }
    },
    {
      "cell_type": "code",
      "source": [
        "from sklearn.tree import DecisionTreeClassifier\n",
        "from sklearn.metrics import accuracy_score,classification_report\n",
        "model2 = DecisionTreeClassifier()\n",
        "model2.fit(x_train_flat, y_train)\n",
        "y_pred1 = model2.predict(x_test_flat)\n",
        "print (\"Accuracy : \", accuracy_score(y_test, y_pred1))"
      ],
      "metadata": {
        "colab": {
          "base_uri": "https://localhost:8080/"
        },
        "id": "mIgSN24SIyUJ",
        "outputId": "2b831068-d55c-4124-97e0-6f9dd7145271"
      },
      "execution_count": null,
      "outputs": [
        {
          "output_type": "stream",
          "name": "stdout",
          "text": [
            "Accuracy :  0.5891089108910891\n"
          ]
        }
      ]
    },
    {
      "cell_type": "markdown",
      "source": [
        "APPLY Random forest"
      ],
      "metadata": {
        "id": "-Da4VRZcIf8g"
      }
    },
    {
      "cell_type": "code",
      "source": [
        "from sklearn.ensemble import RandomForestClassifier\n",
        "model = RandomForestClassifier() \n",
        "model.fit(x_train_flat, y_train)\n",
        "y_pred = model.predict(x_test_flat)\n",
        "y_pred"
      ],
      "metadata": {
        "id": "vV3kgodi-QWf",
        "colab": {
          "base_uri": "https://localhost:8080/"
        },
        "outputId": "120d326c-b53f-4976-9f85-4e81a0e18f39"
      },
      "execution_count": null,
      "outputs": [
        {
          "output_type": "execute_result",
          "data": {
            "text/plain": [
              "array([1, 1, 1, 1, 1, 0, 1, 0, 1, 0, 1, 1, 1, 1, 1, 1, 1, 0, 1, 0, 0, 0,\n",
              "       1, 0, 0, 1, 0, 1, 0, 1, 0, 1, 0, 0, 1, 1, 1, 1, 1, 1, 1, 0, 0, 1,\n",
              "       0, 1, 0, 1, 1, 0, 1, 0, 1, 0, 1, 0, 0, 1, 0, 1, 0, 0, 1, 1, 1, 0,\n",
              "       0, 0, 0, 0, 1, 1, 0, 0, 1, 1, 0, 1, 1, 0, 1, 1, 0, 0, 1, 1, 1, 1,\n",
              "       0, 1, 0, 0, 0, 1, 1, 1, 0, 0, 0, 0, 1, 0, 0, 1, 1, 1, 1, 1, 1, 1,\n",
              "       0, 1, 0, 1, 0, 1, 1, 0, 0, 1, 0, 0, 0, 0, 0, 0, 0, 1, 0, 0, 0, 0,\n",
              "       1, 1, 1, 0, 1, 0, 0, 0, 1, 1, 1, 0, 0, 1, 0, 1, 1, 0, 1, 1, 1, 1,\n",
              "       0, 0, 1, 0, 0, 0, 1, 1, 1, 1, 1, 1, 1, 1, 1, 1, 0, 1, 1, 1, 1, 1,\n",
              "       0, 1, 1, 1, 1, 1, 1, 0, 0, 1, 0, 0, 0, 0, 1, 0, 0, 0, 0, 1, 1, 1,\n",
              "       1, 1, 0, 1])"
            ]
          },
          "metadata": {},
          "execution_count": 9
        }
      ]
    },
    {
      "cell_type": "code",
      "source": [
        "from sklearn.metrics import accuracy_score,classification_report \n",
        "print (\"Accuracy : \", accuracy_score(y_test, y_pred)) "
      ],
      "metadata": {
        "colab": {
          "base_uri": "https://localhost:8080/"
        },
        "id": "SMmyM-GIA8sh",
        "outputId": "c1d9d2b6-3498-4d43-fb08-751d47de7553"
      },
      "execution_count": null,
      "outputs": [
        {
          "output_type": "stream",
          "name": "stdout",
          "text": [
            "Accuracy :  0.5742574257425742\n"
          ]
        }
      ]
    },
    {
      "cell_type": "markdown",
      "source": [],
      "metadata": {
        "id": "qQrYfAs6XtJR"
      }
    },
    {
      "cell_type": "markdown",
      "source": [
        "APPLY LOgistic REgression"
      ],
      "metadata": {
        "id": "52knnpBKIo8k"
      }
    },
    {
      "cell_type": "code",
      "source": [
        "from sklearn.linear_model import LogisticRegression\n",
        "from sklearn.metrics import accuracy_score,classification_report\n",
        "import warnings\n",
        "warnings.filterwarnings(\"ignore\")\n",
        "model1 = LogisticRegression() \n",
        "model1.fit(x_train_flat, y_train)\n",
        "y_pred = model1.predict(x_test_flat)\n",
        "print (\"Accuracy : \", accuracy_score(y_test, y_pred))\n"
      ],
      "metadata": {
        "colab": {
          "base_uri": "https://localhost:8080/"
        },
        "id": "hnv7kTWSE4aF",
        "outputId": "a627219e-6eec-4e44-aab0-6338bf1917d7"
      },
      "execution_count": null,
      "outputs": [
        {
          "output_type": "stream",
          "name": "stdout",
          "text": [
            "Accuracy :  0.5742574257425742\n"
          ]
        }
      ]
    },
    {
      "cell_type": "code",
      "source": [],
      "metadata": {
        "id": "owTnKSL6_SV8"
      },
      "execution_count": null,
      "outputs": []
    }
  ]
}